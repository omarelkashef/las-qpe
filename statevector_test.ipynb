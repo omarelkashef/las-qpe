{
 "cells": [
  {
   "cell_type": "code",
   "execution_count": 1,
   "id": "bad9396e",
   "metadata": {},
   "outputs": [],
   "source": [
    "import numpy as np\n",
    "from qiskit.providers.aer import StatevectorSimulator\n",
    "from qiskit import Aer\n",
    "from qiskit import QuantumCircuit, QuantumRegister, ClassicalRegister\n",
    "from qiskit.utils import QuantumInstance"
   ]
  },
  {
   "cell_type": "code",
   "execution_count": 56,
   "id": "aa82b213",
   "metadata": {},
   "outputs": [
    {
     "data": {
      "text/html": [
       "<pre style=\"word-wrap: normal;white-space: pre;background: #fff0;line-height: 1.1;font-family: &quot;Courier New&quot;,Courier,monospace\">      ┌───┐ ░      ┌─┐    ░ \n",
       "q1_0: ┤ H ├─░──────┤M├────░─\n",
       "      ├───┤ ░      └╥┘┌─┐ ░ \n",
       "q1_1: ┤ H ├─░───────╫─┤M├─░─\n",
       "      └───┘ ░ ┌───┐ ║ └╥┘ ░ \n",
       "q2_0: ──────░─┤ H ├─╫──╫──░─\n",
       "            ░ ├───┤ ║  ║  ░ \n",
       "q2_1: ──────░─┤ H ├─╫──╫──░─\n",
       "            ░ └───┘ ║  ║  ░ \n",
       " c: 2/══════════════╩══╩════\n",
       "                    0  1    </pre>"
      ],
      "text/plain": [
       "      ┌───┐ ░      ┌─┐    ░ \n",
       "q1_0: ┤ H ├─░──────┤M├────░─\n",
       "      ├───┤ ░      └╥┘┌─┐ ░ \n",
       "q1_1: ┤ H ├─░───────╫─┤M├─░─\n",
       "      └───┘ ░ ┌───┐ ║ └╥┘ ░ \n",
       "q2_0: ──────░─┤ H ├─╫──╫──░─\n",
       "            ░ ├───┤ ║  ║  ░ \n",
       "q2_1: ──────░─┤ H ├─╫──╫──░─\n",
       "            ░ └───┘ ║  ║  ░ \n",
       " c: 2/══════════════╩══╩════\n",
       "                    0  1    "
      ]
     },
     "execution_count": 56,
     "metadata": {},
     "output_type": "execute_result"
    }
   ],
   "source": [
    "qr1 = QuantumRegister(2, 'q1')\n",
    "qr2 = QuantumRegister(2, 'q2')\n",
    "cr = ClassicalRegister(2, 'c')\n",
    "\n",
    "new_circuit = QuantumCircuit(qr1,qr2,cr)\n",
    "new_circuit.h(0)\n",
    "new_circuit.h(1)\n",
    "new_circuit.save_statevector(label='init')\n",
    "new_circuit.h(2)\n",
    "new_circuit.h(3)\n",
    "new_circuit.measure(0,0)\n",
    "new_circuit.measure(1,1)\n",
    "new_circuit.save_statevector(label='final')\n",
    "new_circuit.draw()"
   ]
  },
  {
   "cell_type": "code",
   "execution_count": 59,
   "id": "9072dd65",
   "metadata": {},
   "outputs": [
    {
     "name": "stdout",
     "output_type": "stream",
     "text": [
      "Result(backend_name='aer_simulator', backend_version='0.9.1', qobj_id='a6ced274-28fe-4a9e-8c39-2386676839aa', job_id='f44829fa-f9f3-4738-aa2a-25543e32af5a', success=True, results=[ExperimentResult(shots=1, success=True, meas_level=2, data=ExperimentResultData(counts={'0x3': 1}, final=[0. +0.j 0. +0.j 0. +0.j 0.5+0.j 0. +0.j 0. +0.j 0. +0.j 0.5+0.j 0. +0.j\n",
      " 0. +0.j 0. +0.j 0.5+0.j 0. +0.j 0. +0.j 0. +0.j 0.5+0.j], init=[ 0.5+0.j  0.5+0.j  0.5+0.j  0.5+0.j  0. +0.j  0. +0.j -0. +0.j -0. +0.j\n",
      "  0. +0.j  0. +0.j -0. +0.j -0. +0.j  0. +0.j  0. +0.j -0. +0.j -0. +0.j]), header=QobjExperimentHeader(clbit_labels=[['c', 0], ['c', 1]], creg_sizes=[['c', 2]], global_phase=0.0, memory_slots=2, metadata=None, n_qubits=4, name='circuit-28', qreg_sizes=[['q1', 2], ['q2', 2]], qubit_labels=[['q1', 0], ['q1', 1], ['q2', 0], ['q2', 1]]), status=DONE, seed_simulator=3637784103, metadata={'parallel_state_update': 8, 'noise': 'ideal', 'remapped_qubits': False, 'parallel_shots': 1, 'device': 'CPU', 'active_input_qubits': [0, 1, 2, 3], 'measure_sampling': False, 'num_clbits': 2, 'input_qubit_map': [[0, 0], [1, 1], [2, 2], [3, 3]], 'num_qubits': 4, 'method': 'statevector', 'fusion': {'applied': False, 'max_fused_qubits': 5, 'threshold': 14, 'enabled': True}}, time_taken=0.0002412)], date=2022-02-08T12:21:54.910100, status=COMPLETED, status=QobjHeader(backend_name='aer_simulator', backend_version='0.9.1'), metadata={'mpi_rank': 0, 'time_taken': 0.0006805100000000001, 'max_gpu_memory_mb': 0, 'max_memory_mb': 16384, 'parallel_experiments': 1, 'num_mpi_processes': 1, 'omp_enabled': True}, time_taken=0.002665996551513672)\n",
      "Result(backend_name='aer_simulator', backend_version='0.9.1', qobj_id='5dd0febd-502a-4f92-bb7b-32e4749024d9', job_id='765449a3-5c82-482a-a9e2-e102b8b77d3d', success=True, results=[ExperimentResult(shots=1, success=True, meas_level=2, data=ExperimentResultData(counts={'0x2': 1}, final=[0. +0.j 0. +0.j 0.5+0.j 0. +0.j 0. +0.j 0. +0.j 0.5+0.j 0. +0.j 0. +0.j\n",
      " 0. +0.j 0.5+0.j 0. +0.j 0. +0.j 0. +0.j 0.5+0.j 0. +0.j], init=[ 0.5+0.j  0.5+0.j  0.5+0.j  0.5+0.j  0. +0.j  0. +0.j -0. +0.j -0. +0.j\n",
      "  0. +0.j  0. +0.j -0. +0.j -0. +0.j  0. +0.j  0. +0.j -0. +0.j -0. +0.j]), header=QobjExperimentHeader(clbit_labels=[['c', 0], ['c', 1]], creg_sizes=[['c', 2]], global_phase=0.0, memory_slots=2, metadata=None, n_qubits=4, name='circuit-28', qreg_sizes=[['q1', 2], ['q2', 2]], qubit_labels=[['q1', 0], ['q1', 1], ['q2', 0], ['q2', 1]]), status=DONE, seed_simulator=1079699471, metadata={'parallel_state_update': 8, 'noise': 'ideal', 'remapped_qubits': False, 'parallel_shots': 1, 'device': 'CPU', 'active_input_qubits': [0, 1, 2, 3], 'measure_sampling': False, 'num_clbits': 2, 'input_qubit_map': [[0, 0], [1, 1], [2, 2], [3, 3]], 'num_qubits': 4, 'method': 'statevector', 'fusion': {'applied': False, 'max_fused_qubits': 5, 'threshold': 14, 'enabled': True}}, time_taken=0.000192752)], date=2022-02-08T12:21:54.916299, status=COMPLETED, status=QobjHeader(backend_name='aer_simulator', backend_version='0.9.1'), metadata={'mpi_rank': 0, 'time_taken': 0.00058077, 'max_gpu_memory_mb': 0, 'max_memory_mb': 16384, 'parallel_experiments': 1, 'num_mpi_processes': 1, 'omp_enabled': True}, time_taken=0.0011570453643798828)\n",
      "Result(backend_name='aer_simulator', backend_version='0.9.1', qobj_id='f62719df-6b2b-4417-9f8d-5fc63c228fea', job_id='d66ad89b-0dc4-4f4d-9558-c74b28a620db', success=True, results=[ExperimentResult(shots=1, success=True, meas_level=2, data=ExperimentResultData(counts={'0x3': 1}, final=[0. +0.j 0. +0.j 0. +0.j 0.5+0.j 0. +0.j 0. +0.j 0. +0.j 0.5+0.j 0. +0.j\n",
      " 0. +0.j 0. +0.j 0.5+0.j 0. +0.j 0. +0.j 0. +0.j 0.5+0.j], init=[ 0.5+0.j  0.5+0.j  0.5+0.j  0.5+0.j  0. +0.j  0. +0.j -0. +0.j -0. +0.j\n",
      "  0. +0.j  0. +0.j -0. +0.j -0. +0.j  0. +0.j  0. +0.j -0. +0.j -0. +0.j]), header=QobjExperimentHeader(clbit_labels=[['c', 0], ['c', 1]], creg_sizes=[['c', 2]], global_phase=0.0, memory_slots=2, metadata=None, n_qubits=4, name='circuit-28', qreg_sizes=[['q1', 2], ['q2', 2]], qubit_labels=[['q1', 0], ['q1', 1], ['q2', 0], ['q2', 1]]), status=DONE, seed_simulator=1830935217, metadata={'parallel_state_update': 8, 'noise': 'ideal', 'remapped_qubits': False, 'parallel_shots': 1, 'device': 'CPU', 'active_input_qubits': [0, 1, 2, 3], 'measure_sampling': False, 'num_clbits': 2, 'input_qubit_map': [[0, 0], [1, 1], [2, 2], [3, 3]], 'num_qubits': 4, 'method': 'statevector', 'fusion': {'applied': False, 'max_fused_qubits': 5, 'threshold': 14, 'enabled': True}}, time_taken=0.00018339200000000002)], date=2022-02-08T12:21:54.919410, status=COMPLETED, status=QobjHeader(backend_name='aer_simulator', backend_version='0.9.1'), metadata={'mpi_rank': 0, 'time_taken': 0.0005209370000000001, 'max_gpu_memory_mb': 0, 'max_memory_mb': 16384, 'parallel_experiments': 1, 'num_mpi_processes': 1, 'omp_enabled': True}, time_taken=0.0010800361633300781)\n",
      "Result(backend_name='aer_simulator', backend_version='0.9.1', qobj_id='e3820248-c378-415c-b215-989bab75a961', job_id='d95b569d-2d39-4ec3-b856-75a139e82d54', success=True, results=[ExperimentResult(shots=1, success=True, meas_level=2, data=ExperimentResultData(counts={'0x1': 1}, final=[0. +0.j 0.5+0.j 0. +0.j 0. +0.j 0. +0.j 0.5+0.j 0. +0.j 0. +0.j 0. +0.j\n",
      " 0.5+0.j 0. +0.j 0. +0.j 0. +0.j 0.5+0.j 0. +0.j 0. +0.j], init=[ 0.5+0.j  0.5+0.j  0.5+0.j  0.5+0.j  0. +0.j  0. +0.j -0. +0.j -0. +0.j\n",
      "  0. +0.j  0. +0.j -0. +0.j -0. +0.j  0. +0.j  0. +0.j -0. +0.j -0. +0.j]), header=QobjExperimentHeader(clbit_labels=[['c', 0], ['c', 1]], creg_sizes=[['c', 2]], global_phase=0.0, memory_slots=2, metadata=None, n_qubits=4, name='circuit-28', qreg_sizes=[['q1', 2], ['q2', 2]], qubit_labels=[['q1', 0], ['q1', 1], ['q2', 0], ['q2', 1]]), status=DONE, seed_simulator=3194636888, metadata={'parallel_state_update': 8, 'noise': 'ideal', 'remapped_qubits': False, 'parallel_shots': 1, 'device': 'CPU', 'active_input_qubits': [0, 1, 2, 3], 'measure_sampling': False, 'num_clbits': 2, 'input_qubit_map': [[0, 0], [1, 1], [2, 2], [3, 3]], 'num_qubits': 4, 'method': 'statevector', 'fusion': {'applied': False, 'max_fused_qubits': 5, 'threshold': 14, 'enabled': True}}, time_taken=0.000230043)], date=2022-02-08T12:21:54.922730, status=COMPLETED, status=QobjHeader(backend_name='aer_simulator', backend_version='0.9.1'), metadata={'mpi_rank': 0, 'time_taken': 0.000562877, 'max_gpu_memory_mb': 0, 'max_memory_mb': 16384, 'parallel_experiments': 1, 'num_mpi_processes': 1, 'omp_enabled': True}, time_taken=0.001062154769897461)\n",
      "Result(backend_name='aer_simulator', backend_version='0.9.1', qobj_id='156f7b12-a618-4dbf-8039-8bb8affe2d7e', job_id='8e594ab4-ef65-4454-b1ae-5ac885242b48', success=True, results=[ExperimentResult(shots=1, success=True, meas_level=2, data=ExperimentResultData(counts={'0x0': 1}, final=[0.5+0.j 0. +0.j 0. +0.j 0. +0.j 0.5+0.j 0. +0.j 0. +0.j 0. +0.j 0.5+0.j\n",
      " 0. +0.j 0. +0.j 0. +0.j 0.5+0.j 0. +0.j 0. +0.j 0. +0.j], init=[ 0.5+0.j  0.5+0.j  0.5+0.j  0.5+0.j  0. +0.j  0. +0.j -0. +0.j -0. +0.j\n",
      "  0. +0.j  0. +0.j -0. +0.j -0. +0.j  0. +0.j  0. +0.j -0. +0.j -0. +0.j]), header=QobjExperimentHeader(clbit_labels=[['c', 0], ['c', 1]], creg_sizes=[['c', 2]], global_phase=0.0, memory_slots=2, metadata=None, n_qubits=4, name='circuit-28', qreg_sizes=[['q1', 2], ['q2', 2]], qubit_labels=[['q1', 0], ['q1', 1], ['q2', 0], ['q2', 1]]), status=DONE, seed_simulator=2911202188, metadata={'parallel_state_update': 8, 'noise': 'ideal', 'remapped_qubits': False, 'parallel_shots': 1, 'device': 'CPU', 'active_input_qubits': [0, 1, 2, 3], 'measure_sampling': False, 'num_clbits': 2, 'input_qubit_map': [[0, 0], [1, 1], [2, 2], [3, 3]], 'num_qubits': 4, 'method': 'statevector', 'fusion': {'applied': False, 'max_fused_qubits': 5, 'threshold': 14, 'enabled': True}}, time_taken=0.00012287300000000001)], date=2022-02-08T12:21:54.925012, status=COMPLETED, status=QobjHeader(backend_name='aer_simulator', backend_version='0.9.1'), metadata={'mpi_rank': 0, 'time_taken': 0.00039934400000000004, 'max_gpu_memory_mb': 0, 'max_memory_mb': 16384, 'parallel_experiments': 1, 'num_mpi_processes': 1, 'omp_enabled': True}, time_taken=0.0008020401000976562)\n"
     ]
    }
   ],
   "source": [
    "simulator = Aer.get_backend('aer_simulator')\n",
    "for i in range(5):\n",
    "    result = simulator.run(new_circuit, shots=1).result()\n",
    "    print(result)"
   ]
  },
  {
   "cell_type": "code",
   "execution_count": 58,
   "id": "e90467e0",
   "metadata": {
    "scrolled": true
   },
   "outputs": [
    {
     "data": {
      "text/plain": [
       "Result(backend_name='aer_simulator', backend_version='0.9.1', qobj_id='07f4d715-83ad-40bc-88f0-e3af122cceb4', job_id='34df8a92-2ddd-4baf-91d0-7b8e5605554e', success=True, results=[ExperimentResult(shots=1, success=True, meas_level=2, data=ExperimentResultData(counts={'0x3': 1}, final=[0. +0.j 0. +0.j 0. +0.j 0.5+0.j 0. +0.j 0. +0.j 0. +0.j 0.5+0.j 0. +0.j\n",
       " 0. +0.j 0. +0.j 0.5+0.j 0. +0.j 0. +0.j 0. +0.j 0.5+0.j], init=[ 0.5+0.j  0.5+0.j  0.5+0.j  0.5+0.j  0. +0.j  0. +0.j -0. +0.j -0. +0.j\n",
       "  0. +0.j  0. +0.j -0. +0.j -0. +0.j  0. +0.j  0. +0.j -0. +0.j -0. +0.j]), header=QobjExperimentHeader(clbit_labels=[['c', 0], ['c', 1]], creg_sizes=[['c', 2]], global_phase=0.0, memory_slots=2, metadata=None, n_qubits=4, name='circuit-28', qreg_sizes=[['q1', 2], ['q2', 2]], qubit_labels=[['q1', 0], ['q1', 1], ['q2', 0], ['q2', 1]]), status=DONE, seed_simulator=4230071253, metadata={'parallel_state_update': 8, 'noise': 'ideal', 'remapped_qubits': False, 'parallel_shots': 1, 'device': 'CPU', 'active_input_qubits': [0, 1, 2, 3], 'measure_sampling': False, 'num_clbits': 2, 'input_qubit_map': [[0, 0], [1, 1], [2, 2], [3, 3]], 'num_qubits': 4, 'method': 'statevector', 'fusion': {'applied': False, 'max_fused_qubits': 5, 'threshold': 14, 'enabled': True}}, time_taken=0.00015743000000000002)], date=2022-02-08T11:49:00.954549, status=COMPLETED, status=QobjHeader(backend_name='aer_simulator', backend_version='0.9.1'), metadata={'mpi_rank': 0, 'time_taken': 0.000450752, 'max_gpu_memory_mb': 0, 'max_memory_mb': 16384, 'parallel_experiments': 1, 'num_mpi_processes': 1, 'omp_enabled': True}, time_taken=0.000985860824584961)"
      ]
     },
     "execution_count": 58,
     "metadata": {},
     "output_type": "execute_result"
    }
   ],
   "source": []
  },
  {
   "cell_type": "code",
   "execution_count": null,
   "id": "aacf2d71",
   "metadata": {},
   "outputs": [],
   "source": []
  }
 ],
 "metadata": {
  "kernelspec": {
   "display_name": "Python 3 (ipykernel)",
   "language": "python",
   "name": "python3"
  },
  "language_info": {
   "codemirror_mode": {
    "name": "ipython",
    "version": 3
   },
   "file_extension": ".py",
   "mimetype": "text/x-python",
   "name": "python",
   "nbconvert_exporter": "python",
   "pygments_lexer": "ipython3",
   "version": "3.7.3"
  }
 },
 "nbformat": 4,
 "nbformat_minor": 5
}
